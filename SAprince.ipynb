{
  "nbformat": 4,
  "nbformat_minor": 0,
  "metadata": {
    "colab": {
      "name": "SAprince.ipynb",
      "provenance": []
    },
    "kernelspec": {
      "name": "python3",
      "display_name": "Python 3"
    },
    "language_info": {
      "name": "python"
    },
    "accelerator": "GPU"
  },
  "cells": [
    {
      "cell_type": "code",
      "metadata": {
        "id": "trZ4XRYsNZPQ"
      },
      "source": [
        "import pandas as pd\n",
        "import numpy as np\n",
        "import re\n",
        "import random\n",
        "import math"
      ],
      "execution_count": 54,
      "outputs": []
    },
    {
      "cell_type": "code",
      "metadata": {
        "colab": {
          "base_uri": "https://localhost:8080/"
        },
        "id": "tLWmWLqZNq1o",
        "outputId": "3f5996ce-a88b-461c-b05f-cfdc95579ae5"
      },
      "source": [
        "# !pip install bs4\n",
        "# !pip install bert-for-tf2\n",
        "# !pip install sentencepiece\n"
      ],
      "execution_count": 55,
      "outputs": [
        {
          "output_type": "stream",
          "text": [
            "Requirement already satisfied: wordcloud in /usr/local/lib/python3.7/dist-packages (1.5.0)\n",
            "Requirement already satisfied: numpy>=1.6.1 in /usr/local/lib/python3.7/dist-packages (from wordcloud) (1.19.5)\n",
            "Requirement already satisfied: pillow in /usr/local/lib/python3.7/dist-packages (from wordcloud) (7.1.2)\n"
          ],
          "name": "stdout"
        }
      ]
    },
    {
      "cell_type": "code",
      "metadata": {
        "id": "HpvRptEdOK2R"
      },
      "source": [
        "import tensorflow as tf\n",
        "import tensorflow_hub as hub\n",
        "from bs4 import BeautifulSoup\n",
        "from tensorflow.keras import layers\n",
        "import bert"
      ],
      "execution_count": 56,
      "outputs": []
    },
    {
      "cell_type": "code",
      "metadata": {
        "id": "2UW-_72tOgXI"
      },
      "source": [
        "try:\n",
        "  %tensorflow_version 2.x\n",
        "except Exception:\n",
        "  pass"
      ],
      "execution_count": 57,
      "outputs": []
    },
    {
      "cell_type": "code",
      "metadata": {
        "colab": {
          "base_uri": "https://localhost:8080/"
        },
        "id": "0eToWFCxO3TM",
        "outputId": "da401228-721f-478a-c89e-de25a5d6b8b1"
      },
      "source": [
        "print(tf.__version__)"
      ],
      "execution_count": 58,
      "outputs": [
        {
          "output_type": "stream",
          "text": [
            "2.4.1\n"
          ],
          "name": "stdout"
        }
      ]
    },
    {
      "cell_type": "markdown",
      "metadata": {
        "id": "vq9KLNXRPSLo"
      },
      "source": [
        "# 1. DataPreprocessing"
      ]
    },
    {
      "cell_type": "code",
      "metadata": {
        "id": "6d0Rt7w0QX7L"
      },
      "source": [
        "cols = [\"sentiment\",\"id\",\"date\",\"query\",\"user\",\"text\"]\n",
        "dataset = pd.read_csv(\"/content/drive/MyDrive/BERT INTUITION/training.1600000.processed.noemoticon.csv\",\n",
        "                      header = None,\n",
        "                      engine = \"python\",\n",
        "                      encoding = \"latin1\",\n",
        "                      names = cols)"
      ],
      "execution_count": 59,
      "outputs": []
    },
    {
      "cell_type": "code",
      "metadata": {
        "colab": {
          "base_uri": "https://localhost:8080/",
          "height": 195
        },
        "id": "6RAZlwENQrVN",
        "outputId": "8714113b-4b3d-4e8f-ba65-0dfd67dccb85"
      },
      "source": [
        "dataset.head()"
      ],
      "execution_count": 60,
      "outputs": [
        {
          "output_type": "execute_result",
          "data": {
            "text/html": [
              "<div>\n",
              "<style scoped>\n",
              "    .dataframe tbody tr th:only-of-type {\n",
              "        vertical-align: middle;\n",
              "    }\n",
              "\n",
              "    .dataframe tbody tr th {\n",
              "        vertical-align: top;\n",
              "    }\n",
              "\n",
              "    .dataframe thead th {\n",
              "        text-align: right;\n",
              "    }\n",
              "</style>\n",
              "<table border=\"1\" class=\"dataframe\">\n",
              "  <thead>\n",
              "    <tr style=\"text-align: right;\">\n",
              "      <th></th>\n",
              "      <th>sentiment</th>\n",
              "      <th>id</th>\n",
              "      <th>date</th>\n",
              "      <th>query</th>\n",
              "      <th>user</th>\n",
              "      <th>text</th>\n",
              "    </tr>\n",
              "  </thead>\n",
              "  <tbody>\n",
              "    <tr>\n",
              "      <th>0</th>\n",
              "      <td>0</td>\n",
              "      <td>1467810369</td>\n",
              "      <td>Mon Apr 06 22:19:45 PDT 2009</td>\n",
              "      <td>NO_QUERY</td>\n",
              "      <td>_TheSpecialOne_</td>\n",
              "      <td>@switchfoot http://twitpic.com/2y1zl - Awww, t...</td>\n",
              "    </tr>\n",
              "    <tr>\n",
              "      <th>1</th>\n",
              "      <td>0</td>\n",
              "      <td>1467810672</td>\n",
              "      <td>Mon Apr 06 22:19:49 PDT 2009</td>\n",
              "      <td>NO_QUERY</td>\n",
              "      <td>scotthamilton</td>\n",
              "      <td>is upset that he can't update his Facebook by ...</td>\n",
              "    </tr>\n",
              "    <tr>\n",
              "      <th>2</th>\n",
              "      <td>0</td>\n",
              "      <td>1467810917</td>\n",
              "      <td>Mon Apr 06 22:19:53 PDT 2009</td>\n",
              "      <td>NO_QUERY</td>\n",
              "      <td>mattycus</td>\n",
              "      <td>@Kenichan I dived many times for the ball. Man...</td>\n",
              "    </tr>\n",
              "    <tr>\n",
              "      <th>3</th>\n",
              "      <td>0</td>\n",
              "      <td>1467811184</td>\n",
              "      <td>Mon Apr 06 22:19:57 PDT 2009</td>\n",
              "      <td>NO_QUERY</td>\n",
              "      <td>ElleCTF</td>\n",
              "      <td>my whole body feels itchy and like its on fire</td>\n",
              "    </tr>\n",
              "    <tr>\n",
              "      <th>4</th>\n",
              "      <td>0</td>\n",
              "      <td>1467811193</td>\n",
              "      <td>Mon Apr 06 22:19:57 PDT 2009</td>\n",
              "      <td>NO_QUERY</td>\n",
              "      <td>Karoli</td>\n",
              "      <td>@nationwideclass no, it's not behaving at all....</td>\n",
              "    </tr>\n",
              "  </tbody>\n",
              "</table>\n",
              "</div>"
            ],
            "text/plain": [
              "   sentiment  ...                                               text\n",
              "0          0  ...  @switchfoot http://twitpic.com/2y1zl - Awww, t...\n",
              "1          0  ...  is upset that he can't update his Facebook by ...\n",
              "2          0  ...  @Kenichan I dived many times for the ball. Man...\n",
              "3          0  ...    my whole body feels itchy and like its on fire \n",
              "4          0  ...  @nationwideclass no, it's not behaving at all....\n",
              "\n",
              "[5 rows x 6 columns]"
            ]
          },
          "metadata": {
            "tags": []
          },
          "execution_count": 60
        }
      ]
    },
    {
      "cell_type": "code",
      "metadata": {
        "id": "N478phbgRHKH"
      },
      "source": [
        "dataset.drop([\"id\",\"query\",\"user\",\"date\"] ,axis = 1 , inplace = True)"
      ],
      "execution_count": 61,
      "outputs": []
    },
    {
      "cell_type": "code",
      "metadata": {
        "colab": {
          "base_uri": "https://localhost:8080/",
          "height": 195
        },
        "id": "l-PAVOckSCWO",
        "outputId": "73f8f3d0-63cf-4f3c-a3b9-e8fdd01895cc"
      },
      "source": [
        "dataset.head()"
      ],
      "execution_count": 62,
      "outputs": [
        {
          "output_type": "execute_result",
          "data": {
            "text/html": [
              "<div>\n",
              "<style scoped>\n",
              "    .dataframe tbody tr th:only-of-type {\n",
              "        vertical-align: middle;\n",
              "    }\n",
              "\n",
              "    .dataframe tbody tr th {\n",
              "        vertical-align: top;\n",
              "    }\n",
              "\n",
              "    .dataframe thead th {\n",
              "        text-align: right;\n",
              "    }\n",
              "</style>\n",
              "<table border=\"1\" class=\"dataframe\">\n",
              "  <thead>\n",
              "    <tr style=\"text-align: right;\">\n",
              "      <th></th>\n",
              "      <th>sentiment</th>\n",
              "      <th>text</th>\n",
              "    </tr>\n",
              "  </thead>\n",
              "  <tbody>\n",
              "    <tr>\n",
              "      <th>0</th>\n",
              "      <td>0</td>\n",
              "      <td>@switchfoot http://twitpic.com/2y1zl - Awww, t...</td>\n",
              "    </tr>\n",
              "    <tr>\n",
              "      <th>1</th>\n",
              "      <td>0</td>\n",
              "      <td>is upset that he can't update his Facebook by ...</td>\n",
              "    </tr>\n",
              "    <tr>\n",
              "      <th>2</th>\n",
              "      <td>0</td>\n",
              "      <td>@Kenichan I dived many times for the ball. Man...</td>\n",
              "    </tr>\n",
              "    <tr>\n",
              "      <th>3</th>\n",
              "      <td>0</td>\n",
              "      <td>my whole body feels itchy and like its on fire</td>\n",
              "    </tr>\n",
              "    <tr>\n",
              "      <th>4</th>\n",
              "      <td>0</td>\n",
              "      <td>@nationwideclass no, it's not behaving at all....</td>\n",
              "    </tr>\n",
              "  </tbody>\n",
              "</table>\n",
              "</div>"
            ],
            "text/plain": [
              "   sentiment                                               text\n",
              "0          0  @switchfoot http://twitpic.com/2y1zl - Awww, t...\n",
              "1          0  is upset that he can't update his Facebook by ...\n",
              "2          0  @Kenichan I dived many times for the ball. Man...\n",
              "3          0    my whole body feels itchy and like its on fire \n",
              "4          0  @nationwideclass no, it's not behaving at all...."
            ]
          },
          "metadata": {
            "tags": []
          },
          "execution_count": 62
        }
      ]
    },
    {
      "cell_type": "code",
      "metadata": {
        "id": "sPd8gifESHnJ"
      },
      "source": [
        "def clean_tweet(tweet):\n",
        "  tweet = BeautifulSoup(tweet,\"lxml\").get_text()\n",
        "  # removing all the mentions\n",
        "  tweet = re.sub(r'@[A-Za-z0-9]+',' ',tweet)\n",
        "  # removing all the urls\n",
        "  tweet = re.sub(r'https?://[A-Za-z0-9./]+',' ',tweet)\n",
        "  # keeping all the letters\n",
        "  tweet = re.sub(r\"[^A-Za-z0-9.!?']\",' ',tweet)\n",
        "  # removing all the whitespaces\n",
        "  tweet = re.sub(r' +',' ',tweet)\n",
        "\n",
        "  return tweet\n",
        "  "
      ],
      "execution_count": 63,
      "outputs": []
    },
    {
      "cell_type": "code",
      "metadata": {
        "id": "KXy_EX2YT8H7"
      },
      "source": [
        "data_clean = [clean_tweet(tweet) for tweet in dataset.text]"
      ],
      "execution_count": 64,
      "outputs": []
    },
    {
      "cell_type": "code",
      "metadata": {
        "id": "kSG-uvMGV1No"
      },
      "source": [
        "data_labels = dataset.sentiment.values\n",
        "data_labels[data_labels == 4] = 1"
      ],
      "execution_count": 65,
      "outputs": []
    },
    {
      "cell_type": "code",
      "metadata": {
        "colab": {
          "base_uri": "https://localhost:8080/",
          "height": 35
        },
        "id": "O5qOzHzfXUZS",
        "outputId": "0f550d87-e86f-476e-f503-5c19fceea369"
      },
      "source": [
        "data_clean[0]"
      ],
      "execution_count": 66,
      "outputs": [
        {
          "output_type": "execute_result",
          "data": {
            "application/vnd.google.colaboratory.intrinsic+json": {
              "type": "string"
            },
            "text/plain": [
              "\" Awww that's a bummer. You shoulda got David Carr of Third Day to do it. D\""
            ]
          },
          "metadata": {
            "tags": []
          },
          "execution_count": 66
        }
      ]
    },
    {
      "cell_type": "markdown",
      "metadata": {
        "id": "8SO4XE5rWLbS"
      },
      "source": [
        "# 2. Tokenization"
      ]
    },
    {
      "cell_type": "code",
      "metadata": {
        "id": "FcYa2hjgWOh2"
      },
      "source": [
        "FullTokenizer = bert.bert_tokenization.FullTokenizer\n",
        "bert_layer = hub.KerasLayer(\"https://tfhub.dev/tensorflow/bert_en_uncased_L-12_H-768_A-12/4\",trainable=False)\n",
        "vocab_file = bert_layer.resolved_object.vocab_file.asset_path.numpy()\n",
        "do_lower_case = bert_layer.resolved_object.do_lower_case.numpy()\n",
        "tokenizer = FullTokenizer(vocab_file=vocab_file,do_lower_case=do_lower_case)"
      ],
      "execution_count": 67,
      "outputs": []
    },
    {
      "cell_type": "code",
      "metadata": {
        "id": "q5Y4P-umaj64"
      },
      "source": [
        "def encode_sentence(sent):\n",
        "  return tokenizer.convert_tokens_to_ids(tokenizer.tokenize(sent))"
      ],
      "execution_count": null,
      "outputs": []
    },
    {
      "cell_type": "code",
      "metadata": {
        "id": "foYddcMjcNfW"
      },
      "source": [
        "data_inputs = [encode_sentence(sent) for sent in data_clean]"
      ],
      "execution_count": null,
      "outputs": []
    },
    {
      "cell_type": "code",
      "metadata": {
        "id": "uYKx1nGGfO-l",
        "colab": {
          "base_uri": "https://localhost:8080/"
        },
        "outputId": "8d65491f-c869-4871-ab71-77a50c69c30c"
      },
      "source": [
        "word_data = [tokenizer.tokenize(sent) for sent in data_clean]\n",
        "word_data[0]"
      ],
      "execution_count": 68,
      "outputs": [
        {
          "output_type": "execute_result",
          "data": {
            "text/plain": [
              "['aw',\n",
              " '##w',\n",
              " '##w',\n",
              " 'that',\n",
              " \"'\",\n",
              " 's',\n",
              " 'a',\n",
              " 'bum',\n",
              " '##mer',\n",
              " '.',\n",
              " 'you',\n",
              " 'should',\n",
              " '##a',\n",
              " 'got',\n",
              " 'david',\n",
              " 'carr',\n",
              " 'of',\n",
              " 'third',\n",
              " 'day',\n",
              " 'to',\n",
              " 'do',\n",
              " 'it',\n",
              " '.',\n",
              " 'd']"
            ]
          },
          "metadata": {
            "tags": []
          },
          "execution_count": 68
        }
      ]
    },
    {
      "cell_type": "code",
      "metadata": {
        "id": "5Fn7Oj8qI6Z4"
      },
      "source": [
        "how"
      ],
      "execution_count": null,
      "outputs": []
    },
    {
      "cell_type": "markdown",
      "metadata": {
        "id": "ObG1JcY3caBA"
      },
      "source": [
        "# 3. Dataset Creation"
      ]
    },
    {
      "cell_type": "code",
      "metadata": {
        "id": "NbTdP8-rcrI-"
      },
      "source": [
        "data_with_len = [[sent , data_labels[idx] , len(sent)]\n",
        "                 for idx , sent in enumerate(data_inputs)]\n",
        "random.shuffle(data_with_len)\n",
        "data_with_len.sort(key = lambda x:x[2])\n",
        "sorted_all = [(sent[0],sent[1]) for sent in data_with_len if sent[2] > 7]"
      ],
      "execution_count": 19,
      "outputs": []
    },
    {
      "cell_type": "code",
      "metadata": {
        "colab": {
          "base_uri": "https://localhost:8080/"
        },
        "id": "jmx01lqbewQr",
        "outputId": "7a0adbd7-e12d-42f5-a3a9-d1459c316696"
      },
      "source": [
        "data_with_len[0]"
      ],
      "execution_count": 20,
      "outputs": [
        {
          "output_type": "execute_result",
          "data": {
            "text/plain": [
              "[[], 1, 0]"
            ]
          },
          "metadata": {
            "tags": []
          },
          "execution_count": 20
        }
      ]
    },
    {
      "cell_type": "code",
      "metadata": {
        "colab": {
          "base_uri": "https://localhost:8080/"
        },
        "id": "NL1WYTJ8sRUs",
        "outputId": "380adb48-b4ec-42cb-f880-2d15fe6b5189"
      },
      "source": [
        "sorted_all[0]"
      ],
      "execution_count": 21,
      "outputs": [
        {
          "output_type": "execute_result",
          "data": {
            "text/plain": [
              "([3062, 2125, 1996, 2227, 1997, 1996, 3011, 6719], 0)"
            ]
          },
          "metadata": {
            "tags": []
          },
          "execution_count": 21
        }
      ]
    },
    {
      "cell_type": "code",
      "metadata": {
        "id": "678wR7-QfHSn"
      },
      "source": [
        "all_dataset = tf.data.Dataset.from_generator(lambda: sorted_all,\n",
        "                                             output_types = (tf.int32,tf.int32))"
      ],
      "execution_count": 22,
      "outputs": []
    },
    {
      "cell_type": "code",
      "metadata": {
        "colab": {
          "base_uri": "https://localhost:8080/"
        },
        "id": "gAqtyDk-gZBk",
        "outputId": "917e5339-530e-4108-fe3b-e0e07a30e45a"
      },
      "source": [
        "next(iter(all_dataset))"
      ],
      "execution_count": 23,
      "outputs": [
        {
          "output_type": "execute_result",
          "data": {
            "text/plain": [
              "(<tf.Tensor: shape=(8,), dtype=int32, numpy=array([3062, 2125, 1996, 2227, 1997, 1996, 3011, 6719], dtype=int32)>,\n",
              " <tf.Tensor: shape=(), dtype=int32, numpy=0>)"
            ]
          },
          "metadata": {
            "tags": []
          },
          "execution_count": 23
        }
      ]
    },
    {
      "cell_type": "code",
      "metadata": {
        "id": "5LTjgBnCgd3D"
      },
      "source": [
        "BATCH_SIZE = 32\n",
        "all_batched = all_dataset.padded_batch(batch_size = BATCH_SIZE,padded_shapes = ((None,),()))"
      ],
      "execution_count": 24,
      "outputs": []
    },
    {
      "cell_type": "code",
      "metadata": {
        "colab": {
          "base_uri": "https://localhost:8080/"
        },
        "id": "1qSDPS2NhGEN",
        "outputId": "dc208705-d792-4f90-eb3f-9039b0166d3a"
      },
      "source": [
        "all_batched"
      ],
      "execution_count": 25,
      "outputs": [
        {
          "output_type": "execute_result",
          "data": {
            "text/plain": [
              "<PaddedBatchDataset shapes: ((None, None), (None,)), types: (tf.int32, tf.int32)>"
            ]
          },
          "metadata": {
            "tags": []
          },
          "execution_count": 25
        }
      ]
    },
    {
      "cell_type": "code",
      "metadata": {
        "id": "3NsM0PD-hTAq"
      },
      "source": [
        "NB_BATCHES = math.ceil(len(sorted_all)/BATCH_SIZE)\n",
        "NB_BATCHES_TEST = NB_BATCHES//10\n",
        "all_batched.shuffle(NB_BATCHES)\n",
        "test_dataset = all_batched.take(NB_BATCHES_TEST)\n",
        "train_dataset = all_batched.skip(NB_BATCHES_TEST)"
      ],
      "execution_count": 26,
      "outputs": []
    },
    {
      "cell_type": "code",
      "metadata": {
        "colab": {
          "base_uri": "https://localhost:8080/"
        },
        "id": "mepN2ZPXhqCa",
        "outputId": "7d6b2547-c301-44fe-c976-7fae9f4c5324"
      },
      "source": [
        "print(NB_BATCHES)\n",
        "print(NB_BATCHES_TEST)\n",
        "print(test_dataset)\n",
        "print(train_dataset)"
      ],
      "execution_count": 27,
      "outputs": [
        {
          "output_type": "stream",
          "text": [
            "41495\n",
            "4149\n",
            "<TakeDataset shapes: ((None, None), (None,)), types: (tf.int32, tf.int32)>\n",
            "<SkipDataset shapes: ((None, None), (None,)), types: (tf.int32, tf.int32)>\n"
          ],
          "name": "stdout"
        }
      ]
    },
    {
      "cell_type": "markdown",
      "metadata": {
        "id": "e_3a0Qehq7vZ"
      },
      "source": [
        "# 4. Model Building"
      ]
    },
    {
      "cell_type": "code",
      "metadata": {
        "id": "ZfDk4HPirUnA"
      },
      "source": [
        "class DCNN(tf.keras.Model):\n",
        "  def __init__(self,\n",
        "               vocab_size,\n",
        "               emb_dim = 128,\n",
        "               nb_filters = 50,\n",
        "               FFN_units = 512,\n",
        "               nb_classes = 2,\n",
        "               dropout_rate = 0.1,\n",
        "               training = False,\n",
        "               name = 'dcnn'):\n",
        "    super(DCNN,self).__init__(name = name)\n",
        "\n",
        "    self.embedding = layers.Embedding(vocab_size , emb_dim)\n",
        "    self.bigram = layers.Conv1D(filters=nb_filters , \n",
        "                                kernal_size = 2,\n",
        "                                padding = 'valid',\n",
        "                                activation = 'relu')\n",
        "    self.trigram = layers.Conv1D(filters=nb_filters , \n",
        "                                kernal_size = 3,\n",
        "                                padding = 'valid',\n",
        "                                activation = 'relu')\n",
        "    self.fourgram = layers.Conv1D(filters=nb_filters , \n",
        "                                kernal_size = 4,\n",
        "                                padding = 'valid',\n",
        "                                activation = 'relu')\n",
        "    self.pool = layers.GlobalMaxPooling1D()\n",
        "    self.dense_1 = layers.Dense(units = FFN_units , activation = 'sigmoid')\n",
        "    self.dropout = layers.Dropout(rate = dropout_rate)\n",
        "\n",
        "    if nb_classes == 2:\n",
        "      self.dense_2 = layers.Dense(units = 1,activation = 'sigmoid')\n",
        "    else:\n",
        "      self.dense_2 = layers.Dense(units = nb_classes,activation = 'softmax')\n",
        "\n",
        "  def call(self, inputs, training):\n",
        "    x = self.embedding(inputs)\n",
        "    x_1 = self.bigram(x)\n",
        "    x_1 = self.pool(x_1)\n",
        "    x_2 = self.bigram(x_1)\n",
        "    x_2 = self.pool(x_2)\n",
        "    x_3 = self.bigram(x_2)\n",
        "    x_3 = self.pool(x_3)\n",
        "\n",
        "    merged = tf.concat([x_1,x_2,x_3],axis = -1)\n",
        "    merged = self.dense_1(merged)\n",
        "    merged = self.dropout(merged , training)\n",
        "    output = self.dense_2(merged)  \n",
        "    \n",
        "    return output"
      ],
      "execution_count": 28,
      "outputs": []
    },
    {
      "cell_type": "markdown",
      "metadata": {
        "id": "6f6oPlUX2tAh"
      },
      "source": [
        "# 5.Training"
      ]
    },
    {
      "cell_type": "code",
      "metadata": {
        "id": "NgQY0u4n28A6"
      },
      "source": [
        "VOCAB_SIZE = len(tokenizer.vocab)\n",
        "EMB_DIM = 200\n",
        "NB_FILTERS = 100\n",
        "FFN_UNITS = 256\n",
        "NB_CLASSES = 2\n",
        "\n",
        "DROPOUT_RATE = 0.2\n",
        "\n",
        "NB_EPOCHS = 5"
      ],
      "execution_count": 29,
      "outputs": []
    },
    {
      "cell_type": "code",
      "metadata": {
        "id": "oWJyb54T6dGj"
      },
      "source": [
        "class DCNN(tf.keras.Model):\n",
        "    \n",
        "    def __init__(self,\n",
        "                 vocab_size,\n",
        "                 emb_dim=128,\n",
        "                 nb_filters=50,\n",
        "                 FFN_units=512,\n",
        "                 nb_classes=2,\n",
        "                 dropout_rate=0.1,\n",
        "                 training=False,\n",
        "                 name=\"dcnn\"):\n",
        "        super(DCNN, self).__init__(name=name)\n",
        "        \n",
        "        self.embedding = layers.Embedding(vocab_size,\n",
        "                                          emb_dim)\n",
        "        self.bigram = layers.Conv1D(filters=nb_filters,\n",
        "                                    kernel_size=2,\n",
        "                                    padding=\"valid\",\n",
        "                                    activation=\"relu\")\n",
        "        self.trigram = layers.Conv1D(filters=nb_filters,\n",
        "                                     kernel_size=3,\n",
        "                                     padding=\"valid\",\n",
        "                                     activation=\"relu\")\n",
        "        self.fourgram = layers.Conv1D(filters=nb_filters,\n",
        "                                      kernel_size=4,\n",
        "                                      padding=\"valid\",\n",
        "                                      activation=\"relu\")\n",
        "        self.pool = layers.GlobalMaxPool1D()\n",
        "        \n",
        "        self.dense_1 = layers.Dense(units=FFN_units, activation=\"relu\")\n",
        "        self.dropout = layers.Dropout(rate=dropout_rate)\n",
        "        if nb_classes == 2:\n",
        "            self.last_dense = layers.Dense(units=1,\n",
        "                                           activation=\"sigmoid\")\n",
        "        else:\n",
        "            self.last_dense = layers.Dense(units=nb_classes,\n",
        "                                           activation=\"softmax\")\n",
        "    \n",
        "    def call(self, inputs, training):\n",
        "        x = self.embedding(inputs)\n",
        "        x_1 = self.bigram(x) # batch_size, nb_filters, seq_len-1)\n",
        "        x_1 = self.pool(x_1) # (batch_size, nb_filters)\n",
        "        x_2 = self.trigram(x) # batch_size, nb_filters, seq_len-2)\n",
        "        x_2 = self.pool(x_2) # (batch_size, nb_filters)\n",
        "        x_3 = self.fourgram(x) # batch_size, nb_filters, seq_len-3)\n",
        "        x_3 = self.pool(x_3) # (batch_size, nb_filters)\n",
        "        \n",
        "        merged = tf.concat([x_1, x_2, x_3], axis=-1) # (batch_size, 3 * nb_filters)\n",
        "        merged = self.dense_1(merged)\n",
        "        merged = self.dropout(merged, training)\n",
        "        output = self.last_dense(merged)\n",
        "        \n",
        "        return output"
      ],
      "execution_count": 30,
      "outputs": []
    },
    {
      "cell_type": "code",
      "metadata": {
        "id": "bd9ZtWzy7BJF"
      },
      "source": [
        "Dcnn = DCNN(vocab_size=VOCAB_SIZE,\n",
        "            emb_dim = EMB_DIM,\n",
        "            nb_filters = NB_FILTERS,\n",
        "            FFN_units = FFN_UNITS,\n",
        "            nb_classes = NB_CLASSES,\n",
        "            dropout_rate = DROPOUT_RATE)"
      ],
      "execution_count": 31,
      "outputs": []
    },
    {
      "cell_type": "code",
      "metadata": {
        "id": "a33GarE97EmY"
      },
      "source": [
        "if NB_CLASSES == 2:\n",
        "    Dcnn.compile(loss=\"binary_crossentropy\",\n",
        "                 optimizer=\"adam\",\n",
        "                 metrics=[\"accuracy\"])\n",
        "else:\n",
        "    Dcnn.compile(loss=\"sparse_categorical_crossentropy\",\n",
        "                 optimizer=\"adam\",\n",
        "                 metrics=[\"sparse_categorical_accuracy\"])"
      ],
      "execution_count": 32,
      "outputs": []
    },
    {
      "cell_type": "code",
      "metadata": {
        "id": "d-j88tT67hLw"
      },
      "source": [
        "checkpoint_path = \"/content/drive/MyDrive/BERT INTUITION/\"\n",
        "ckpt = tf.train.Checkpoint(Dcnn=Dcnn)\n",
        "ckpt_manager = tf.train.CheckpointManager(ckpt, checkpoint_path, max_to_keep=1)\n",
        "class MyCustomCallback(tf.keras.callbacks.Callback):\n",
        "\n",
        "    def on_epoch_end(self, epoch, logs=None):\n",
        "        ckpt_manager.save()\n",
        "        print(\"Checkpoint saved at {}.\".format(checkpoint_path))"
      ],
      "execution_count": 33,
      "outputs": []
    },
    {
      "cell_type": "code",
      "metadata": {
        "colab": {
          "base_uri": "https://localhost:8080/"
        },
        "id": "3SFgg7KJ7sv5",
        "outputId": "b10e1389-c3a0-40b8-c335-9576587a88a7"
      },
      "source": [
        "Dcnn.fit(train_dataset,\n",
        "         epochs=NB_EPOCHS,\n",
        "         callbacks=[MyCustomCallback()])"
      ],
      "execution_count": null,
      "outputs": [
        {
          "output_type": "stream",
          "text": [
            "Epoch 1/5\n",
            "37346/37346 [==============================] - 3843s 102ms/step - loss: 0.4213 - accuracy: 0.8062\n",
            "Checkpoint saved at /content/drive/MyDrive/BERT INTUITION/.\n",
            "Epoch 2/5\n",
            "37346/37346 [==============================] - 3852s 103ms/step - loss: 0.3588 - accuracy: 0.8435\n",
            "Checkpoint saved at /content/drive/MyDrive/BERT INTUITION/.\n",
            "Epoch 3/5\n",
            "37346/37346 [==============================] - 3891s 104ms/step - loss: 0.3222 - accuracy: 0.8625\n",
            "Checkpoint saved at /content/drive/MyDrive/BERT INTUITION/.\n",
            "Epoch 4/5\n",
            " 8806/37346 [======>.......................] - ETA: 45:17 - loss: 0.2824 - accuracy: 0.8835"
          ],
          "name": "stdout"
        }
      ]
    },
    {
      "cell_type": "code",
      "metadata": {
        "id": "nOShvPFn8Ooo",
        "colab": {
          "base_uri": "https://localhost:8080/"
        },
        "outputId": "d9da1547-9bab-43da-d695-950b73d214c5"
      },
      "source": [
        "if ckpt_manager.latest_checkpoint:\n",
        "    ckpt.restore(ckpt_manager.latest_checkpoint)\n",
        "    print(\"Latest checkpoint restored!!\")"
      ],
      "execution_count": 39,
      "outputs": [
        {
          "output_type": "stream",
          "text": [
            "Latest checkpoint restored!!\n"
          ],
          "name": "stdout"
        }
      ]
    },
    {
      "cell_type": "code",
      "metadata": {
        "id": "xUVPgP9E8gMx",
        "colab": {
          "base_uri": "https://localhost:8080/"
        },
        "outputId": "f41b6065-137e-4bd2-aa35-dfb336972a8b"
      },
      "source": [
        "results = Dcnn.evaluate(test_dataset)\n",
        "print(results)"
      ],
      "execution_count": 40,
      "outputs": [
        {
          "output_type": "stream",
          "text": [
            "4149/4149 [==============================] - 23s 6ms/step - loss: 0.3637 - accuracy: 0.8417\n",
            "[0.3637111783027649, 0.8416937589645386]\n"
          ],
          "name": "stdout"
        }
      ]
    },
    {
      "cell_type": "code",
      "metadata": {
        "id": "xXr-B5jg85gG"
      },
      "source": [
        "def get_prediction(sentence):\n",
        "    tokens = encode_sentence(sentence)\n",
        "    inputs = tf.expand_dims(tokens, 0)\n",
        "\n",
        "    output = Dcnn(inputs, training=False)\n",
        "\n",
        "    sentiment = math.floor(output*2)\n",
        "\n",
        "    if sentiment == 0:\n",
        "        print(\"Ouput of the model: {}\\nPredicted sentiment: negative.\".format(\n",
        "            output))\n",
        "    elif sentiment == 1:\n",
        "        print(\"Ouput of the model: {}\\nPredicted sentiment: positive.\".format(\n",
        "            output))"
      ],
      "execution_count": 41,
      "outputs": []
    },
    {
      "cell_type": "code",
      "metadata": {
        "colab": {
          "base_uri": "https://localhost:8080/"
        },
        "id": "45lxiXP689l7",
        "outputId": "96ffa409-caf6-4450-b3c7-d6cc7376da19"
      },
      "source": [
        "get_prediction(\"this movie was awesome!\")"
      ],
      "execution_count": 42,
      "outputs": [
        {
          "output_type": "stream",
          "text": [
            "Ouput of the model: [[0.984916]]\n",
            "Predicted sentiment: positive.\n"
          ],
          "name": "stdout"
        }
      ]
    },
    {
      "cell_type": "markdown",
      "metadata": {
        "id": "AEQCdbsqD8Bv"
      },
      "source": [
        "# Trying Some RealWorld Negative Prediction Example"
      ]
    },
    {
      "cell_type": "code",
      "metadata": {
        "colab": {
          "base_uri": "https://localhost:8080/"
        },
        "id": "e2MD0LAxBXmy",
        "outputId": "52ae6ccd-9475-4638-f38b-bd55acd0a581"
      },
      "source": [
        "get_prediction('Zapier is sooooo confusing to me')"
      ],
      "execution_count": 43,
      "outputs": [
        {
          "output_type": "stream",
          "text": [
            "Ouput of the model: [[0.10199497]]\n",
            "Predicted sentiment: negative.\n"
          ],
          "name": "stdout"
        }
      ]
    },
    {
      "cell_type": "code",
      "metadata": {
        "colab": {
          "base_uri": "https://localhost:8080/"
        },
        "id": "taaV37dXDjNa",
        "outputId": "8ad93396-08fa-4a7c-c29a-f04306d57f8e"
      },
      "source": [
        "get_prediction(\"Awful experience. I would never buy this product again\")"
      ],
      "execution_count": 44,
      "outputs": [
        {
          "output_type": "stream",
          "text": [
            "Ouput of the model: [[0.1760469]]\n",
            "Predicted sentiment: negative.\n"
          ],
          "name": "stdout"
        }
      ]
    },
    {
      "cell_type": "code",
      "metadata": {
        "colab": {
          "base_uri": "https://localhost:8080/"
        },
        "id": "6NLYBTTjDr2X",
        "outputId": "178f8dd5-1aee-47f8-da8f-a6256eaff8ea"
      },
      "source": [
        "get_prediction('Your customer service is a nightmare! Totally useless!!')"
      ],
      "execution_count": 46,
      "outputs": [
        {
          "output_type": "stream",
          "text": [
            "Ouput of the model: [[0.00427677]]\n",
            "Predicted sentiment: negative.\n"
          ],
          "name": "stdout"
        }
      ]
    },
    {
      "cell_type": "code",
      "metadata": {
        "id": "RK6ztU-IFnLc"
      },
      "source": [
        ""
      ],
      "execution_count": null,
      "outputs": []
    }
  ]
}